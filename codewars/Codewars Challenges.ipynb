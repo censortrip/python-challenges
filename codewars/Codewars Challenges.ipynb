{
 "cells": [
  {
   "cell_type": "markdown",
   "metadata": {},
   "source": [
    "# Codewars Challenges\n",
    "---\n",
    "\n",
    "**All of these challenges come from codewars.com.**\n",
    "\n",
    "[Visit Site](https://www.codewars.com/)\n"
   ]
  },
  {
   "cell_type": "markdown",
   "metadata": {},
   "source": [
    "### Challenge 1\n",
    "#### Stop gninnipS My sdroW! (Stop Spinning My Words!)\n",
    "---\n",
    "Write a function that takes in a string of one or more words, \n",
    "and returns the same string, but with all five or more letter \n",
    "words reversed (Just like the name of this Kata). \n",
    "Strings passed in will consist of only letters and spaces. \n",
    "Spaces will be included only when more than one word is present.\n",
    "\n",
    "Examples: spinWords( \"Hey fellow warriors\" ) => returns \"Hey wollef sroirraw\" spinWords**"
   ]
  },
  {
   "cell_type": "code",
   "execution_count": 6,
   "metadata": {},
   "outputs": [
    {
     "name": "stdout",
     "output_type": "stream",
     "text": [
      "My Solution: emocleW home erehw have you been you ?retsekoj\n",
      "\n",
      "Alt Solution: emocleW home erehw have you been you ?retsekoj\n"
     ]
    }
   ],
   "source": [
    "# String Challenge #1 Code\n",
    "# Only reverse words with length > 5 chars\n",
    "\n",
    "sentence = \"Welcome home where have you been you jokester?\"\n",
    "\n",
    "# My Solution\n",
    "def spin_words(sentence):\n",
    "    word_list=[]\n",
    "    for word in sentence.split():\n",
    "        if len(word) >= 5:\n",
    "            word = word[::-1]\n",
    "        word_list.append(word)\n",
    "    listToStr = ' '.join([word for word in word_list]) \n",
    "    return listToStr\n",
    "\n",
    "# Alternative Solutions \n",
    "def spin_words2(sentence):\n",
    "    return ' '.join(word if len(word)<5 else word[::-1] for word in sentence.split())\n",
    "    #return \" \".join([x[::-1] if len(x) >=5 else x for x in sentence.split(\" \")])\n",
    "\n",
    "print(f'My Solution: {spin_words(sentence)}')\n",
    "print()\n",
    "print(f'Alt Solution: {spin_words2(sentence)}')"
   ]
  },
  {
   "cell_type": "markdown",
   "metadata": {},
   "source": [
    "### Challenge 2\n",
    "#### Create Phone Number\n",
    "---\n",
    "Write a function that accepts an array of 10 integers (between 0 and 9), that returns a string of those numbers in the form of a phone number:\n",
    "\n",
    "create_phone_number([1, 2, 3, 4, 5, 6, 7, 8, 9, 0]) => returns \"(123) 456-7890\""
   ]
  },
  {
   "cell_type": "code",
   "execution_count": 31,
   "metadata": {},
   "outputs": [
    {
     "name": "stdout",
     "output_type": "stream",
     "text": [
      "(868) 216-8533\n",
      "(868) 216-8533\n"
     ]
    }
   ],
   "source": [
    "import numpy as np\n",
    "# create \n",
    "\n",
    "# My Solution\n",
    "num_list = np.random.randint(low = 1, high = 9, size = 10).tolist()\n",
    "num_str = [str(num) for num in num_list]\n",
    "\n",
    "num_str.insert(0, '(')\n",
    "num_str.insert(4, ') ')\n",
    "num_str.insert(8, '-')\n",
    "number = \"\".join(num_str)\n",
    "print(number)\n",
    "\n",
    "\n",
    "# Alternate Solution:\n",
    "n = ''.join(map(str,num_list))\n",
    "print(f'({n[:3]}) {n[3:6]}-{n[6:]}')"
   ]
  },
  {
   "cell_type": "markdown",
   "metadata": {},
   "source": [
    "### Challenge 3\n",
    "#### Square Every Digit\n",
    "---\n",
    "Welcome. In this kata, you are asked to square every digit of a number.\n",
    "\n",
    "For example, if we run 9119 through the function, 811181 will come out, because 92 is 81 and 12 is 1.\n",
    "\n",
    "\n",
    "Note: The function accepts an integer and returns an integer"
   ]
  },
  {
   "cell_type": "code",
   "execution_count": 53,
   "metadata": {},
   "outputs": [
    {
     "name": "stdout",
     "output_type": "stream",
     "text": [
      "My solution: 811181\n",
      "Alt Solution: 94116\n"
     ]
    }
   ],
   "source": [
    "# Num Challenge #1 Code\n",
    "# Square Every Digit\n",
    "\n",
    "# My solution used list comprehnsions for the heck of it\n",
    "def square_digits(num):\n",
    "    nums = [int(x)**2 for x in str(num)]\n",
    "    answer = ''.join(str(num) for num in nums)\n",
    "    return int(answer)\n",
    "\n",
    "# Alt Solution, more readable and usually how I would do it\n",
    "def square_digits2(num):\n",
    "    ret = \"\"\n",
    "    for x in str(num):\n",
    "        ret += str(int(x)**2)\n",
    "    return int(ret)\n",
    "\n",
    "print(f'My solution: {square_digits(9119)}')\n",
    "print(f'Alt Solution: {square_digits2(3214)}')"
   ]
  },
  {
   "cell_type": "markdown",
   "metadata": {},
   "source": [
    "### Challenge 4\n",
    "#### IQ Test\n",
    "---\n",
    "Create a program that among the given numbers finds one that is different in evenness, and return a position of this number.\n",
    "\n",
    "Keep in mind that your task is to help Bob solve a real IQ test, which means indexes of the elements start from 1 (not 0)\n",
    "\n",
    "Examples:\n",
    "\n",
    "iq_test(\"2 4 7 8 10\") => 3 // Third number is odd, rest even\n",
    "\n",
    "iq_test(\"1 2 1 1\") => 2 // Second number even, rest odd"
   ]
  },
  {
   "cell_type": "code",
   "execution_count": 37,
   "metadata": {},
   "outputs": [
    {
     "data": {
      "text/plain": [
       "3"
      ]
     },
     "execution_count": 37,
     "metadata": {},
     "output_type": "execute_result"
    }
   ],
   "source": [
    "even_nums = ('2 4 7 8 10')\n",
    "odd_nums = ('1 2 2')\n",
    "\n",
    "def iq_test(nums):\n",
    "    nums_lst = [int(num) for num in (nums.split())]\n",
    "    \n",
    "    evens = len([x for x in nums_lst if x%2==0])\n",
    "    odds  = len([x for x in nums_lst if x%2!=0])\n",
    "\n",
    "    if evens < odds:\n",
    "        even_pos = [i+1 for i , x in enumerate(nums_lst) if x%2==0]\n",
    "        return(even_pos[0])\n",
    "    else:\n",
    "        odd_pos = [i+1 for i , x in enumerate(nums_lst) if x%2!=0]\n",
    "        return(odd_pos[0])\n",
    "\n",
    "iq_test(even_nums)  "
   ]
  },
  {
   "cell_type": "markdown",
   "metadata": {},
   "source": [
    "### Challenge 5 \n",
    "#### Is a number prime?\n",
    "---\n",
    "\n",
    "Define a function that takes an integer argument and returns logical value true or false depending on if the integer is a prime.\n",
    "\n",
    "Per Wikipedia, a prime number (or a prime) is a natural number greater than 1 that has no positive divisors other than 1 and itself.\n",
    "\n",
    "Assumptions:\n",
    "\n",
    "* You can assume you will be given an integer input.\n",
    "* You can not assume that the integer will be only positive. You may be given negative numbers as well (or 0).\n",
    "* There are no fancy optimizations required, but still the most trivial solutions might time out. Try to find a solution which does not loop all the way up to n.\n"
   ]
  },
  {
   "cell_type": "code",
   "execution_count": 4,
   "metadata": {},
   "outputs": [
    {
     "data": {
      "text/plain": [
       "False"
      ]
     },
     "execution_count": 4,
     "metadata": {},
     "output_type": "execute_result"
    }
   ],
   "source": [
    "import math\n",
    "def is_prime(num):\n",
    "    if (num <= 1):\n",
    "        return(False)\n",
    "    else:\n",
    "        for i in range(2, int(math.sqrt(num)+1)):\n",
    "            if(num % i == 0):\n",
    "                return(False)\n",
    "                break       \n",
    "    return(True)\n",
    "\n",
    "is_prime(12)"
   ]
  },
  {
   "cell_type": "markdown",
   "metadata": {},
   "source": [
    "### Challenge 6\n",
    "#### Multiples of 3 or 5\n",
    "---\n",
    "\n",
    "If we list all the natural numbers below 10 that are multiples of 3 or 5, we get 3, 5, 6 and 9. The sum of these multiples is 23.\n",
    "\n",
    "Finish the solution so that it returns the sum of all the multiples of 3 or 5 below the number passed in.\n",
    "\n",
    "Note: If the number is a multiple of both 3 and 5, only count it once.\n"
   ]
  },
  {
   "cell_type": "code",
   "execution_count": 5,
   "metadata": {},
   "outputs": [
    {
     "data": {
      "text/plain": [
       "23"
      ]
     },
     "execution_count": 5,
     "metadata": {},
     "output_type": "execute_result"
    }
   ],
   "source": [
    "def solution(num):\n",
    "    sum  = 0\n",
    "    for i in range(2, num):      \n",
    "        if i%3 == 0 and not i%5 == 0:\n",
    "            sum += i\n",
    "        elif i % 5 == 0 and not i%3 == 0:\n",
    "            sum += i\n",
    "        elif i%3 == 0 and i%5 == 0:\n",
    "            sum += i        \n",
    "    return(sum)\n",
    "\n",
    "solution(10)"
   ]
  },
  {
   "cell_type": "markdown",
   "metadata": {},
   "source": [
    "### Challenge 7\n",
    "#### Array.diff\n",
    "---\n",
    "\n",
    "Your goal in this kata is to implement a difference function, which subtracts one list from another and returns the result.\n",
    "\n",
    "It should remove all values from list a, which are present in list b.\n",
    "\n",
    "array_diff([1,2],[1]) == [2]\n",
    "\n",
    "If a value is present in b, all of its occurrences must be removed from the other:"
   ]
  },
  {
   "cell_type": "code",
   "execution_count": 102,
   "metadata": {},
   "outputs": [
    {
     "data": {
      "text/plain": [
       "[6, 6, 15, 14, 1, -12, 18, 18, -14, 10, -7, 16, 0, 1, -20]"
      ]
     },
     "execution_count": 102,
     "metadata": {},
     "output_type": "execute_result"
    }
   ],
   "source": [
    "# I used numpy because the challenges name is array, yet they really wanted lists instead.\n",
    "# so my solution was overdone\n",
    "import numpy as np\n",
    "\n",
    "a = np.array([6, 6, 15, 14, 1, -12, -3, 18, 18, -14, -9, 10, -7, 8, 16, 0, 1, -20])\n",
    "b = np.array([-3, -15, 7, 11, -5, -11, 7, -18, -17, -9, -8, 9, 13, -9, -13, 8, 19])\n",
    "\n",
    "def array_diff(a, b):\n",
    "    if len(a) == 0 :\n",
    "        return([])\n",
    "    elif len(b) == 0:\n",
    "        return(list(a))\n",
    "    else:\n",
    "        for i in range(len(b)):\n",
    "            if b[i] in a:\n",
    "                a = a[a != b[i]]\n",
    "        return(list(a))\n",
    "        \n",
    "array_diff(a,b)"
   ]
  },
  {
   "cell_type": "code",
   "execution_count": 104,
   "metadata": {},
   "outputs": [
    {
     "data": {
      "text/plain": [
       "[6, 6, 15, 14, 1, -12, 18, 18, -14, 10, -7, 16, 0, 1, -20]"
      ]
     },
     "execution_count": 104,
     "metadata": {},
     "output_type": "execute_result"
    }
   ],
   "source": [
    "# Simple solution using lists\n",
    "a = [6, 6, 15, 14, 1, -12, -3, 18, 18, -14, -9, 10, -7, 8, 16, 0, 1, -20]\n",
    "b = [-3, -15, 7, 11, -5, -11, 7, -18, -17, -9, -8, 9, 13, -9, -13, 8, 19]\n",
    "\n",
    "def array_diff2(a,b):\n",
    "    return [x for x in a if x not in b]\n",
    "\n",
    "array_diff2(a,b)"
   ]
  },
  {
   "cell_type": "markdown",
   "metadata": {},
   "source": [
    "### Challenge 8\n",
    "#### ROT13\n",
    "---\n",
    "\n",
    "ROT13 is a simple letter substitution cipher that replaces a letter with the letter 13 letters after it in the alphabet. ROT13 is an example of the Caesar cipher.\n",
    "\n",
    "Create a function that takes a string and returns the string ciphered with Rot13. If there are numbers or special characters included in the string, they should be returned as they are. Only letters from the latin/english alphabet should be shifted, like in the original Rot13 \"implementation\".\n",
    "\n",
    "Please note that using encode is considered cheating.\n"
   ]
  },
  {
   "cell_type": "code",
   "execution_count": 164,
   "metadata": {},
   "outputs": [
    {
     "name": "stdout",
     "output_type": "stream",
     "text": [
      "no way Jose!$\n",
      "ab jnl Wbfr!$\n"
     ]
    }
   ],
   "source": [
    "# My solution not using encode\n",
    "\n",
    "import string\n",
    "\n",
    "def rot13(test_string): \n",
    "    lwr_alpha = string.ascii_lowercase * 2\n",
    "    upr_alpha = string.ascii_uppercase * 2\n",
    "    cipher = ''\n",
    "    \n",
    "    for letter in test_string:\n",
    "        if letter in lwr_alpha:\n",
    "            cipher += lwr_alpha[lwr_alpha.find(letter)+13]\n",
    "            #print(f'{letter} is in lowercase alphabet, index loc: {cipher}')   \n",
    "        elif letter in upr_alpha:\n",
    "            cipher += upr_alpha[upr_alpha.find(letter)+13]\n",
    "            #print(f'{letter} is in uppercase alphabet, index loc: {cipher}')\n",
    "        else:\n",
    "            cipher += letter\n",
    "            #print(f'{letter} not in ANY alphabet')\n",
    "    print(f'{test_string}')\n",
    "    print(f'{cipher}')\n",
    "  \n",
    "rot13('no way Jose!$')"
   ]
  },
  {
   "cell_type": "code",
   "execution_count": 165,
   "metadata": {},
   "outputs": [
    {
     "data": {
      "text/plain": [
       "'ab jnl Wbfr!$'"
      ]
     },
     "execution_count": 165,
     "metadata": {},
     "output_type": "execute_result"
    }
   ],
   "source": [
    "# Simple solution using encode\n",
    "import codecs\n",
    "codecs.encode('no way Jose!$', 'rot_13')"
   ]
  },
  {
   "cell_type": "markdown",
   "metadata": {},
   "source": [
    "### Challenge 9\n",
    "#### Find The Parity Outlier\n",
    "---\n",
    "\n",
    "You are given an array (which will have a length of at least 3, but could be very large) containing integers. The array is either entirely comprised of odd integers or entirely comprised of even integers except for a single integer N. Write a method that takes the array as an argument and returns this \"outlier\" N."
   ]
  },
  {
   "cell_type": "code",
   "execution_count": 205,
   "metadata": {},
   "outputs": [
    {
     "data": {
      "text/plain": [
       "160"
      ]
     },
     "execution_count": 205,
     "metadata": {},
     "output_type": "execute_result"
    }
   ],
   "source": [
    "a1 = [2, 4, 6, 100, 4, 11, 2602, 36]  # 11 is outlier\n",
    "a2 = [160, 3, 1719, 19, 11, 13, -21]  # 160 is outlier\n",
    "\n",
    "def find_outlier(nums):\n",
    "    # check type of outlier searching for\n",
    "    if ((nums[0]%2==0 and nums[1]%2==0) or\n",
    "        (nums[0]%2==0 and nums[2]%2==0) or\n",
    "        (nums[1]%2==0 and nums[2]%2==0)):\n",
    "        outlier = [x for x in nums if x%2 != 0]\n",
    "        return outlier[0]\n",
    "    else:\n",
    "        outlier = [x for x in nums if x%2 == 0]\n",
    "        return outlier[0]\n",
    "\n",
    "find_outlier(a2)"
   ]
  },
  {
   "cell_type": "code",
   "execution_count": 207,
   "metadata": {},
   "outputs": [
    {
     "data": {
      "text/plain": [
       "11"
      ]
     },
     "execution_count": 207,
     "metadata": {},
     "output_type": "execute_result"
    }
   ],
   "source": [
    "# Really good solution\n",
    "def find_outlier2(int):\n",
    "    odds = [x for x in int if x%2!=0]\n",
    "    evens= [x for x in int if x%2==0]\n",
    "    return odds[0] if len(odds)<len(evens) else evens[0]\n",
    "\n",
    "find_outlier2(a1)"
   ]
  },
  {
   "cell_type": "markdown",
   "metadata": {},
   "source": [
    "### Challenge 10\n",
    "#### Maximum subarray sum\n",
    "---\n",
    "\n",
    "The maximum sum subarray problem consists in finding the maximum sum of a contiguous subsequence in an array or list of integers:\n",
    "\n",
    "maxSequence([-2, 1, -3, 4, -1, 2, 1, -5, 4])\n",
    "should be 6: [4, -1, 2, 1]\n",
    "\n",
    "Easy case is when the list is made up of only positive numbers and the maximum sum is the sum of the whole array. If the list is made up of only negative numbers, return 0 instead.\n",
    "\n",
    "Empty list is considered to have zero greatest sum. Note that the empty list or array is also a valid sublist/subarray.\n"
   ]
  },
  {
   "cell_type": "code",
   "execution_count": 2,
   "metadata": {},
   "outputs": [
    {
     "name": "stdout",
     "output_type": "stream",
     "text": [
      "[-1,-3] | Max Sum: 0\n",
      "[0, 0]  | Max Sum: 0\n",
      "[1,2]   | Max Sum: 3\n",
      "[]      | Max Sum: 0\n",
      "[-2, 1, -3, 4] | Max Sequence: 4\n",
      "[-2, 1, -3, 4, -1, 2, 1, -5, 4] | Max Sum: 6\n"
     ]
    }
   ],
   "source": [
    "# My solution\n",
    "s1 = [-2, 1, -3, 4, -1, 2, 1, -5, 4]\n",
    "s2 = [-1,-3]\n",
    "s3 = [0, 0]\n",
    "s4 = [1,2]\n",
    "s5 = []\n",
    "s6 = [-2, 1, -3, 4]\n",
    "\n",
    "def max_sequence(s):\n",
    "    if len(s) == 0 or max(s) <= 0:\n",
    "        return 0\n",
    "    elif min(s) > 0:\n",
    "        return sum(s)\n",
    "    else:\n",
    "        max_sum = 0\n",
    "        for i in range(0, len(s)):\n",
    "            for y in range(i+1, len(s)+1):\n",
    "                if sum(s[i:y]) > max_sum:\n",
    "                    max_sum = sum(s[i:y])\n",
    "        return max_sum\n",
    "\n",
    "# Note, all() can also be used to check every element in list/array\n",
    "# def max_sequence(s):\n",
    "#     if len(s) == 0 or all(n < 0 for n in s):\n",
    "#         return 0\n",
    "    \n",
    "#     elif all(n > 0 for n in s):\n",
    "#         return sum(s)\n",
    "\n",
    "print(f'[-1,-3] | Max Sum: {max_sequence(s2)}')  # all negative\n",
    "print(f'[0, 0]  | Max Sum: {max_sequence(s3)}')  # all zero\n",
    "print(f'[1,2]   | Max Sum: {max_sequence(s4)}')  # all positive\n",
    "print(f'[]      | Max Sum: {max_sequence(s5)}')  # Empty Set\n",
    "print(f'[-2, 1, -3, 4] | Max Sequence: {max_sequence(s6)}')  # mixed pos/neg\n",
    "print(f'[-2, 1, -3, 4, -1, 2, 1, -5, 4] | Max Sum: {max_sequence(s1)}') # mixed pos/neg  "
   ]
  },
  {
   "cell_type": "code",
   "execution_count": 3,
   "metadata": {},
   "outputs": [
    {
     "data": {
      "text/plain": [
       "6"
      ]
     },
     "execution_count": 3,
     "metadata": {},
     "output_type": "execute_result"
    }
   ],
   "source": [
    "# Really good solution only looping through once\n",
    "def maxSequence2(arr):\n",
    "    m,curr=0,0\n",
    "    for x in arr:\n",
    "        curr+=x\n",
    "        if curr<0:curr=0\n",
    "        if curr>m:m=curr\n",
    "    return m\n",
    "\n",
    "maxSequence2(s1)"
   ]
  },
  {
   "cell_type": "code",
   "execution_count": 4,
   "metadata": {},
   "outputs": [
    {
     "name": "stdout",
     "output_type": "stream",
     "text": [
      "i; -2 | cur_sum:-2 | max_sum: 0\n",
      "i; 1 | cur_sum:1 | max_sum: 1\n",
      "i; -3 | cur_sum:-2 | max_sum: 1\n",
      "i; 4 | cur_sum:4 | max_sum: 4\n",
      "i; -1 | cur_sum:3 | max_sum: 4\n",
      "i; 2 | cur_sum:5 | max_sum: 5\n",
      "i; 1 | cur_sum:6 | max_sum: 6\n",
      "i; -5 | cur_sum:1 | max_sum: 6\n",
      "i; 4 | cur_sum:5 | max_sum: 6\n"
     ]
    },
    {
     "data": {
      "text/plain": [
       "6"
      ]
     },
     "execution_count": 4,
     "metadata": {},
     "output_type": "execute_result"
    }
   ],
   "source": [
    "# This solution uses max in an intersting way\n",
    "# to calcuate all the possible sum combinations\n",
    "\n",
    "def maxSequence3(arr):\n",
    "    cur_sum, max_sum = 0, 0\n",
    "    for i in arr:\n",
    "        cur_sum = max(i, cur_sum + i)\n",
    "        max_sum = max(max_sum, cur_sum)\n",
    "        print(f'i; {i} | cur_sum:{cur_sum} | max_sum: {max_sum}')\n",
    "    return max_sum\n",
    "\n",
    "maxSequence3(s1)"
   ]
  },
  {
   "cell_type": "markdown",
   "metadata": {},
   "source": [
    "---\n",
    "### Challenge 11\n",
    "#### Where my anagrams at?\n",
    "\n",
    "What is an anagram? Well, two words are anagrams of each other if they both contain the same letters. For example:\n",
    "\n",
    "'abba' & 'baab' == true\n",
    "\n",
    "'abba' & 'bbaa' == true\n",
    "\n",
    "'abba' & 'abbba' == false\n",
    "\n",
    "'abba' & 'abca' == false\n",
    "\n",
    "Write a function that will find all the anagrams of a word from a list. You will be given two inputs a word and an array with words. You should return an array of all the anagrams or an empty array if there are none. For example:\n",
    "\n",
    "anagrams('abba', ['aabb', 'abcd', 'bbaa', 'dada']) => ['aabb', 'bbaa']\n",
    "\n",
    "anagrams('racer', ['crazer', 'carer', 'racar', 'caers', 'racer']) => ['carer', 'racer']\n",
    "\n",
    "anagrams('laser', ['lazing', 'lazy',  'lacer']) => []\n",
    "\n"
   ]
  },
  {
   "cell_type": "code",
   "execution_count": 42,
   "metadata": {},
   "outputs": [
    {
     "name": "stdout",
     "output_type": "stream",
     "text": [
      "['carer', 'racer']\n"
     ]
    }
   ],
   "source": [
    "# My solution using itertools\n",
    "\n",
    "import itertools\n",
    "\n",
    "s = 'racer'\n",
    "t_list =  ['crazer', 'carer', 'racar', 'caers', 'racer']\n",
    "\n",
    "def get_anagrams(target, word_list):\n",
    "    permutations = list(itertools.permutations(list(target)))    \n",
    "    anagrams = []\n",
    "\n",
    "    for w in word_list:\n",
    "        if tuple(w) in permutations:\n",
    "            anagrams.append(w)\n",
    "        else:\n",
    "            pass   \n",
    "        \n",
    "    return anagrams\n",
    "          \n",
    "print(get_anagrams(s, t_list))\n"
   ]
  },
  {
   "cell_type": "code",
   "execution_count": 43,
   "metadata": {},
   "outputs": [
    {
     "name": "stdout",
     "output_type": "stream",
     "text": [
      "['carer', 'racer']\n"
     ]
    }
   ],
   "source": [
    "# Really clever one liner\n",
    "def anagrams(word, words): \n",
    "    return [item for item in words if sorted(item)==sorted(word)]\n",
    "\n",
    "s = 'racer'\n",
    "t_list =  ['crazer', 'carer', 'racar', 'caers', 'racer']\n",
    "\n",
    "print(anagrams(s, t_list))"
   ]
  },
  {
   "cell_type": "markdown",
   "metadata": {},
   "source": [
    "---\n",
    "### Challenge 12\n",
    "#### Hashtag Generator\n",
    "\n",
    "The marketing team is spending way too much time typing in hashtags.\n",
    "Let's help them with our own Hashtag Generator!\n",
    "\n",
    "Here's the deal:\n",
    "* It must start with a hashtag (#).\n",
    "* All words must have their first letter capitalized.\n",
    "* If the final result is longer than 140 chars it must return false.\n",
    "* If the input or the result is an empty string it must return false.\n"
   ]
  },
  {
   "cell_type": "code",
   "execution_count": 55,
   "metadata": {},
   "outputs": [
    {
     "data": {
      "text/plain": [
       "'#HelloWorld'"
      ]
     },
     "execution_count": 55,
     "metadata": {},
     "output_type": "execute_result"
    }
   ],
   "source": [
    "def generate_hashtag(s):\n",
    "    if len(s) > 140 or s == '':\n",
    "        return False\n",
    "    else:\n",
    "        x = s.title().split()\n",
    "        return (f\"#{''.join(x)}\")  \n",
    "    \n",
    "    \n",
    "test = \"    Hello     World   \" \n",
    "\n",
    "generate_hashtag(test)"
   ]
  },
  {
   "cell_type": "markdown",
   "metadata": {},
   "source": [
    "---\n",
    "### Challenge 13\n",
    "#### Calculating with Functions\n",
    "\n",
    "seven(times(five())) # must return 35\n",
    "four(plus(nine())) # must return 13\n",
    "eight(minus(three())) # must return 5\n",
    "six(divided_by(two())) # must return 3\n",
    "\n",
    "Requirements:\n",
    "\n",
    "* There must be a function for each number from 0 (\"zero\") to 9 (\"nine\")\n",
    "* There must be a function for each of the following mathematical operations: plus, minus, times, dividedBy (divided_by in Ruby and Python)\n",
    "* Each calculation consist of exactly one operation and two numbers\n",
    "* The most outer function represents the left operand, the most inner function represents the right operand\n",
    "* Divison should be integer division. For example, this should return 2, not 2.666666.."
   ]
  },
  {
   "cell_type": "code",
   "execution_count": 64,
   "metadata": {},
   "outputs": [
    {
     "data": {
      "text/plain": [
       "4.5"
      ]
     },
     "execution_count": 64,
     "metadata": {},
     "output_type": "execute_result"
    }
   ],
   "source": [
    "# There are a few ways this can be done, I have listed a few below\n",
    "\n",
    "def zero(*args): \n",
    "    if len(args) == 0 : return 0 \n",
    "    else: return args[0](0)\n",
    "\n",
    "# More succinct version of the above\n",
    "def one(*args): return 1 if len(args) == 0 else args[0](1)\n",
    "\n",
    "# Slightly cleaner looking than the above\n",
    "def two(f = None): return 2 if not f else f(2)\n",
    "def three(f = None): return 3 if not f else f(3)\n",
    "def four(f = None): return 4 if not f else f(4)\n",
    "def five(f = None): return 5 if not f else f(5)\n",
    "def six(f = None): return 6 if not f else f(6)\n",
    "def seven(f = None): return 7 if not f else f(7)\n",
    "def eight(f = None): return 8 if not f else f(8)\n",
    "def nine(f = None): return 9 if not f else f(9)\n",
    "\n",
    "# Note here that x here is the return value for the outer function\n",
    "def plus(y): return lambda x: x + y\n",
    "def minus(y): return lambda x: x - y\n",
    "def times(y): return lambda  x: x * y\n",
    "def divided_by(y): return lambda  x: x // y\n",
    "\n",
    "\n",
    "nine(divided_by(two()))"
   ]
  },
  {
   "cell_type": "code",
   "execution_count": 69,
   "metadata": {},
   "outputs": [
    {
     "data": {
      "text/plain": [
       "81"
      ]
     },
     "execution_count": 69,
     "metadata": {},
     "output_type": "execute_result"
    }
   ],
   "source": [
    "# My ideal soution, not as succinct but really clear use of *args\n",
    "# and lambda functions\n",
    "\n",
    "def zero(*args): \n",
    "    if len(args) == 0 : return 0 \n",
    "    else: return args[0](0)\n",
    "    \n",
    "def one(*args): \n",
    "    if len(args) == 0 : return 1 \n",
    "    else: return args[0](1)\n",
    "\n",
    "def two(*args): \n",
    "    if len(args) == 0 : return 2 \n",
    "    else: return args[0](2)\n",
    "    \n",
    "def three(*args): \n",
    "    if len(args) == 0 : return 3\n",
    "    else: return args[0](3)\n",
    "    \n",
    "def four(*args): \n",
    "    if len(args) == 0 : return 4 \n",
    "    else: return args[0](4)\n",
    "    \n",
    "def five(*args): \n",
    "    if len(args) == 0 : return 5 \n",
    "    else: return args[0](5)\n",
    "    \n",
    "def six(*args): \n",
    "    if len(args) == 0 : return 6\n",
    "    else: return args[0](6)\n",
    "    \n",
    "def seven(*args): \n",
    "    if len(args) == 0 : return 7\n",
    "    else: return args[0](7)\n",
    "    \n",
    "def eight(*args): \n",
    "    if len(args) == 0 : return 8 \n",
    "    else: return args[0](8)\n",
    "    \n",
    "def nine(*args): \n",
    "    if len(args) == 0 : return 9\n",
    "    else: return args[0](9)\n",
    "    \n",
    "    \n",
    "def plus(y): return lambda x: x + y\n",
    "def minus(y): return lambda x: x - y\n",
    "def times(y): return lambda  x: x * y\n",
    "def divided_by(y): return lambda  x: x / y\n",
    "\n",
    "nine(times(nine()))"
   ]
  },
  {
   "cell_type": "markdown",
   "metadata": {},
   "source": [
    "---\n",
    "### Challenge 14\n",
    "#### Tic-Tac-Toe Checker\n",
    "\n",
    "If we were to set up a Tic-Tac-Toe game, we would want to know whether the board's current state is solved, wouldn't we? Our goal is to create a function that will check that for us!\n",
    "\n",
    "Assume that the board comes in the form of a 3x3 array, where the value is 0 if a spot is empty, 1 if it is an \"X\", or 2 if it is an \"O\", like so:\n",
    "\n",
    "[0, 0, 1], <br>\n",
    "[0, 1, 2], <br>\n",
    "[2, 1, 0] <br>\n",
    "\n",
    "We want our function to return:\n",
    "\n",
    "    -1 if the board is not yet finished (there are empty spots),\n",
    "    1 if \"X\" won,\n",
    "    2 if \"O\" won,\n",
    "    0 if it's a cat's game (i.e. a draw).\n",
    "\n",
    "You may assume that the board passed in is valid in the context of a game of Tic-Tac-Toe."
   ]
  },
  {
   "cell_type": "code",
   "execution_count": 205,
   "metadata": {},
   "outputs": [
    {
     "data": {
      "text/plain": [
       "2"
      ]
     },
     "execution_count": 205,
     "metadata": {},
     "output_type": "execute_result"
    }
   ],
   "source": [
    "import numpy\n",
    "   \n",
    "def win_check(matrix, code):\n",
    "    if code == 'h' or code == 'v':\n",
    "        for row in matrix:\n",
    "            if len(set(row)) == 1 and row[0] == 1:\n",
    "                return 1\n",
    "            if len(set(row)) == 1 and row[0] == 2:\n",
    "                return 2\n",
    "    else:\n",
    "        if len(set(matrix)) == 1 and matrix[0] == 1:\n",
    "            return 1\n",
    "        if len(set(matrix)) == 1 and matrix[0] == 2:\n",
    "            return 2\n",
    "              \n",
    "def is_solved(matrix):\n",
    "    \n",
    "    # Horizontal Check\n",
    "    h = win_check(matrix, 'h')\n",
    "             \n",
    "    # Vertical Check\n",
    "    vert_matrix = numpy.transpose(matrix)\n",
    "    v = win_check(vert_matrix, 'v')\n",
    "        \n",
    "    # Diagonal Check 1\n",
    "    d1_list = []\n",
    "    for row in range(0,3):\n",
    "        d1_list.append(matrix[row][row])   \n",
    "    d1 = win_check(d1_list, 'd1')\n",
    "    \n",
    "    # Diagonal Check 2\n",
    "    d2_list = []\n",
    "    for row in range(0,3):\n",
    "        d2_list.append(matrix[row][2-row])\n",
    "    d2 = win_check(d2_list, 'd2')\n",
    "          \n",
    "    if h == 1 or v == 1 or d1 == 1 or d1 == 1:\n",
    "        return 1\n",
    "\n",
    "    if h == 2 or v == 2 or d1 == 2 or d2 == 2:\n",
    "        return 2\n",
    "          \n",
    "    # If none of the above check out then either draw or not finished\n",
    "    for row in matrix:\n",
    "        for value in row:\n",
    "            if value == 0:\n",
    "                return -1\n",
    "    return 0 \n",
    "        \n",
    "        \n",
    "m = [[2, 2, 2], [0, 2, 2], [2, 0, 2]]\n",
    "\n",
    "is_solved(m)"
   ]
  }
 ],
 "metadata": {
  "kernelspec": {
   "display_name": "Python 3",
   "language": "python",
   "name": "python3"
  },
  "language_info": {
   "codemirror_mode": {
    "name": "ipython",
    "version": 3
   },
   "file_extension": ".py",
   "mimetype": "text/x-python",
   "name": "python",
   "nbconvert_exporter": "python",
   "pygments_lexer": "ipython3",
   "version": "3.7.7"
  }
 },
 "nbformat": 4,
 "nbformat_minor": 4
}
