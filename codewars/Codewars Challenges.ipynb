{
 "cells": [
  {
   "cell_type": "markdown",
   "metadata": {},
   "source": [
    "# Codewars Challenges\n",
    "---\n",
    "\n",
    "**All of these challenges come from codewars.com.**\n",
    "\n",
    "[Visit Site](https://www.codewars.com/)\n",
    "\n",
    "### Index of Challenge type\n",
    "1. Text Based Challenges\n",
    "2. Numerical Challenges"
   ]
  },
  {
   "cell_type": "markdown",
   "metadata": {},
   "source": [
    "## 1.  Text Based Challenges\n",
    "---"
   ]
  },
  {
   "cell_type": "markdown",
   "metadata": {},
   "source": [
    "### Challenge 1\n",
    "#### Stop gninnipS My sdroW! (Stop Spinning My Words!)\n",
    "---\n",
    "Write a function that takes in a string of one or more words, \n",
    "and returns the same string, but with all five or more letter \n",
    "words reversed (Just like the name of this Kata). \n",
    "Strings passed in will consist of only letters and spaces. \n",
    "Spaces will be included only when more than one word is present.\n",
    "\n",
    "Examples: spinWords( \"Hey fellow warriors\" ) => returns \"Hey wollef sroirraw\" spinWords**"
   ]
  },
  {
   "cell_type": "code",
   "execution_count": 6,
   "metadata": {},
   "outputs": [
    {
     "name": "stdout",
     "output_type": "stream",
     "text": [
      "My Solution: emocleW home erehw have you been you ?retsekoj\n",
      "\n",
      "Alt Solution: emocleW home erehw have you been you ?retsekoj\n"
     ]
    }
   ],
   "source": [
    "# String Challenge #1 Code\n",
    "# Only reverse words with length > 5 chars\n",
    "\n",
    "sentence = \"Welcome home where have you been you jokester?\"\n",
    "\n",
    "# My Solution\n",
    "def spin_words(sentence):\n",
    "    word_list=[]\n",
    "    for word in sentence.split():\n",
    "        if len(word) >= 5:\n",
    "            word = word[::-1]\n",
    "        word_list.append(word)\n",
    "    listToStr = ' '.join([word for word in word_list]) \n",
    "    return listToStr\n",
    "\n",
    "# Alternative Solutions \n",
    "def spin_words2(sentence):\n",
    "    return ' '.join(word if len(word)<5 else word[::-1] for word in sentence.split())\n",
    "    #return \" \".join([x[::-1] if len(x) >=5 else x for x in sentence.split(\" \")])\n",
    "\n",
    "print(f'My Solution: {spin_words(sentence)}')\n",
    "print()\n",
    "print(f'Alt Solution: {spin_words2(sentence)}')"
   ]
  },
  {
   "cell_type": "markdown",
   "metadata": {},
   "source": [
    "### Challenge 2\n",
    "#### Create Phone Number\n",
    "---\n",
    "Write a function that accepts an array of 10 integers (between 0 and 9), that returns a string of those numbers in the form of a phone number:\n",
    "\n",
    "create_phone_number([1, 2, 3, 4, 5, 6, 7, 8, 9, 0]) => returns \"(123) 456-7890\""
   ]
  },
  {
   "cell_type": "code",
   "execution_count": 31,
   "metadata": {},
   "outputs": [
    {
     "name": "stdout",
     "output_type": "stream",
     "text": [
      "(868) 216-8533\n",
      "(868) 216-8533\n"
     ]
    }
   ],
   "source": [
    "import numpy as np\n",
    "# create \n",
    "\n",
    "# My Solution\n",
    "num_list = np.random.randint(low = 1, high = 9, size = 10).tolist()\n",
    "num_str = [str(num) for num in num_list]\n",
    "\n",
    "num_str.insert(0, '(')\n",
    "num_str.insert(4, ') ')\n",
    "num_str.insert(8, '-')\n",
    "number = \"\".join(num_str)\n",
    "print(number)\n",
    "\n",
    "\n",
    "# Alternate Solution:\n",
    "n = ''.join(map(str,num_list))\n",
    "print(f'({n[:3]}) {n[3:6]}-{n[6:]}')"
   ]
  },
  {
   "cell_type": "code",
   "execution_count": null,
   "metadata": {},
   "outputs": [],
   "source": []
  },
  {
   "cell_type": "markdown",
   "metadata": {},
   "source": [
    "## 2.  Numerical Challenges\n",
    "---"
   ]
  },
  {
   "cell_type": "markdown",
   "metadata": {},
   "source": [
    "### Challenge 1\n",
    "#### Square Every Digit\n",
    "---\n",
    "Welcome. In this kata, you are asked to square every digit of a number.\n",
    "\n",
    "For example, if we run 9119 through the function, 811181 will come out, because 92 is 81 and 12 is 1.\n",
    "\n",
    "Note: The function accepts an integer and returns an integer"
   ]
  },
  {
   "cell_type": "code",
   "execution_count": 53,
   "metadata": {},
   "outputs": [
    {
     "name": "stdout",
     "output_type": "stream",
     "text": [
      "My solution: 811181\n",
      "Alt Solution: 94116\n"
     ]
    }
   ],
   "source": [
    "# Num Challenge #1 Code\n",
    "# Square Every Digit\n",
    "\n",
    "# My solution used list comprehnsions for the heck of it\n",
    "def square_digits(num):\n",
    "    nums = [int(x)**2 for x in str(num)]\n",
    "    answer = ''.join(str(num) for num in nums)\n",
    "    return int(answer)\n",
    "\n",
    "# Alt Solution, more readable and usually how I would do it\n",
    "def square_digits2(num):\n",
    "    ret = \"\"\n",
    "    for x in str(num):\n",
    "        ret += str(int(x)**2)\n",
    "    return int(ret)\n",
    "\n",
    "print(f'My solution: {square_digits(9119)}')\n",
    "print(f'Alt Solution: {square_digits2(3214)}')"
   ]
  },
  {
   "cell_type": "code",
   "execution_count": null,
   "metadata": {},
   "outputs": [],
   "source": []
  }
 ],
 "metadata": {
  "kernelspec": {
   "display_name": "Python 3",
   "language": "python",
   "name": "python3"
  },
  "language_info": {
   "codemirror_mode": {
    "name": "ipython",
    "version": 3
   },
   "file_extension": ".py",
   "mimetype": "text/x-python",
   "name": "python",
   "nbconvert_exporter": "python",
   "pygments_lexer": "ipython3",
   "version": "3.7.6"
  }
 },
 "nbformat": 4,
 "nbformat_minor": 4
}
