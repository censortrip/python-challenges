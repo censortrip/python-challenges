{
 "cells": [
  {
   "cell_type": "markdown",
   "metadata": {},
   "source": [
    "# Codewars Challenges\n",
    "---\n",
    "\n",
    "**All of these challenges come from codewars.com.**\n",
    "\n",
    "[Visit Site](https://www.codewars.com/)\n"
   ]
  },
  {
   "cell_type": "markdown",
   "metadata": {},
   "source": [
    "### Challenge 1\n",
    "#### Stop gninnipS My sdroW! (Stop Spinning My Words!)\n",
    "---\n",
    "Write a function that takes in a string of one or more words, \n",
    "and returns the same string, but with all five or more letter \n",
    "words reversed (Just like the name of this Kata). \n",
    "Strings passed in will consist of only letters and spaces. \n",
    "Spaces will be included only when more than one word is present.\n",
    "\n",
    "Examples: spinWords( \"Hey fellow warriors\" ) => returns \"Hey wollef sroirraw\" spinWords**"
   ]
  },
  {
   "cell_type": "code",
   "execution_count": 6,
   "metadata": {},
   "outputs": [
    {
     "name": "stdout",
     "output_type": "stream",
     "text": [
      "My Solution: emocleW home erehw have you been you ?retsekoj\n",
      "\n",
      "Alt Solution: emocleW home erehw have you been you ?retsekoj\n"
     ]
    }
   ],
   "source": [
    "# String Challenge #1 Code\n",
    "# Only reverse words with length > 5 chars\n",
    "\n",
    "sentence = \"Welcome home where have you been you jokester?\"\n",
    "\n",
    "# My Solution\n",
    "def spin_words(sentence):\n",
    "    word_list=[]\n",
    "    for word in sentence.split():\n",
    "        if len(word) >= 5:\n",
    "            word = word[::-1]\n",
    "        word_list.append(word)\n",
    "    listToStr = ' '.join([word for word in word_list]) \n",
    "    return listToStr\n",
    "\n",
    "# Alternative Solutions \n",
    "def spin_words2(sentence):\n",
    "    return ' '.join(word if len(word)<5 else word[::-1] for word in sentence.split())\n",
    "    #return \" \".join([x[::-1] if len(x) >=5 else x for x in sentence.split(\" \")])\n",
    "\n",
    "print(f'My Solution: {spin_words(sentence)}')\n",
    "print()\n",
    "print(f'Alt Solution: {spin_words2(sentence)}')"
   ]
  },
  {
   "cell_type": "markdown",
   "metadata": {},
   "source": [
    "### Challenge 2\n",
    "#### Create Phone Number\n",
    "---\n",
    "Write a function that accepts an array of 10 integers (between 0 and 9), that returns a string of those numbers in the form of a phone number:\n",
    "\n",
    "create_phone_number([1, 2, 3, 4, 5, 6, 7, 8, 9, 0]) => returns \"(123) 456-7890\""
   ]
  },
  {
   "cell_type": "code",
   "execution_count": 31,
   "metadata": {},
   "outputs": [
    {
     "name": "stdout",
     "output_type": "stream",
     "text": [
      "(868) 216-8533\n",
      "(868) 216-8533\n"
     ]
    }
   ],
   "source": [
    "import numpy as np\n",
    "# create \n",
    "\n",
    "# My Solution\n",
    "num_list = np.random.randint(low = 1, high = 9, size = 10).tolist()\n",
    "num_str = [str(num) for num in num_list]\n",
    "\n",
    "num_str.insert(0, '(')\n",
    "num_str.insert(4, ') ')\n",
    "num_str.insert(8, '-')\n",
    "number = \"\".join(num_str)\n",
    "print(number)\n",
    "\n",
    "\n",
    "# Alternate Solution:\n",
    "n = ''.join(map(str,num_list))\n",
    "print(f'({n[:3]}) {n[3:6]}-{n[6:]}')"
   ]
  },
  {
   "cell_type": "markdown",
   "metadata": {},
   "source": [
    "### Challenge 3\n",
    "#### Square Every Digit\n",
    "---\n",
    "Welcome. In this kata, you are asked to square every digit of a number.\n",
    "\n",
    "For example, if we run 9119 through the function, 811181 will come out, because 92 is 81 and 12 is 1.\n",
    "\n",
    "\n",
    "Note: The function accepts an integer and returns an integer"
   ]
  },
  {
   "cell_type": "code",
   "execution_count": 53,
   "metadata": {},
   "outputs": [
    {
     "name": "stdout",
     "output_type": "stream",
     "text": [
      "My solution: 811181\n",
      "Alt Solution: 94116\n"
     ]
    }
   ],
   "source": [
    "# Num Challenge #1 Code\n",
    "# Square Every Digit\n",
    "\n",
    "# My solution used list comprehnsions for the heck of it\n",
    "def square_digits(num):\n",
    "    nums = [int(x)**2 for x in str(num)]\n",
    "    answer = ''.join(str(num) for num in nums)\n",
    "    return int(answer)\n",
    "\n",
    "# Alt Solution, more readable and usually how I would do it\n",
    "def square_digits2(num):\n",
    "    ret = \"\"\n",
    "    for x in str(num):\n",
    "        ret += str(int(x)**2)\n",
    "    return int(ret)\n",
    "\n",
    "print(f'My solution: {square_digits(9119)}')\n",
    "print(f'Alt Solution: {square_digits2(3214)}')"
   ]
  },
  {
   "cell_type": "markdown",
   "metadata": {},
   "source": [
    "### Challenge 4\n",
    "#### IQ Test\n",
    "---\n",
    "Create a program that among the given numbers finds one that is different in evenness, and return a position of this number.\n",
    "\n",
    "Keep in mind that your task is to help Bob solve a real IQ test, which means indexes of the elements start from 1 (not 0)\n",
    "\n",
    "Examples:\n",
    "\n",
    "iq_test(\"2 4 7 8 10\") => 3 // Third number is odd, rest even\n",
    "\n",
    "iq_test(\"1 2 1 1\") => 2 // Second number even, rest odd"
   ]
  },
  {
   "cell_type": "code",
   "execution_count": 37,
   "metadata": {},
   "outputs": [
    {
     "data": {
      "text/plain": [
       "3"
      ]
     },
     "execution_count": 37,
     "metadata": {},
     "output_type": "execute_result"
    }
   ],
   "source": [
    "even_nums = ('2 4 7 8 10')\n",
    "odd_nums = ('1 2 2')\n",
    "\n",
    "def iq_test(nums):\n",
    "    nums_lst = [int(num) for num in (nums.split())]\n",
    "    \n",
    "    evens = len([x for x in nums_lst if x%2==0])\n",
    "    odds  = len([x for x in nums_lst if x%2!=0])\n",
    "\n",
    "    if evens < odds:\n",
    "        even_pos = [i+1 for i , x in enumerate(nums_lst) if x%2==0]\n",
    "        return(even_pos[0])\n",
    "    else:\n",
    "        odd_pos = [i+1 for i , x in enumerate(nums_lst) if x%2!=0]\n",
    "        return(odd_pos[0])\n",
    "\n",
    "iq_test(even_nums)  "
   ]
  },
  {
   "cell_type": "markdown",
   "metadata": {},
   "source": [
    "### Challenge 5 \n",
    "#### Is a number prime?\n",
    "---\n",
    "\n",
    "Define a function that takes an integer argument and returns logical value true or false depending on if the integer is a prime.\n",
    "\n",
    "Per Wikipedia, a prime number (or a prime) is a natural number greater than 1 that has no positive divisors other than 1 and itself.\n",
    "\n",
    "Assumptions:\n",
    "\n",
    "* You can assume you will be given an integer input.\n",
    "* You can not assume that the integer will be only positive. You may be given negative numbers as well (or 0).\n",
    "* There are no fancy optimizations required, but still the most trivial solutions might time out. Try to find a solution which does not loop all the way up to n.\n"
   ]
  },
  {
   "cell_type": "code",
   "execution_count": 4,
   "metadata": {},
   "outputs": [
    {
     "data": {
      "text/plain": [
       "False"
      ]
     },
     "execution_count": 4,
     "metadata": {},
     "output_type": "execute_result"
    }
   ],
   "source": [
    "import math\n",
    "def is_prime(num):\n",
    "    if (num <= 1):\n",
    "        return(False)\n",
    "    else:\n",
    "        for i in range(2, int(math.sqrt(num)+1)):\n",
    "            if(num % i == 0):\n",
    "                return(False)\n",
    "                break       \n",
    "    return(True)\n",
    "\n",
    "is_prime(12)"
   ]
  },
  {
   "cell_type": "markdown",
   "metadata": {},
   "source": [
    "### Challenge 6\n",
    "#### Multiples of 3 or 5\n",
    "---\n",
    "\n",
    "If we list all the natural numbers below 10 that are multiples of 3 or 5, we get 3, 5, 6 and 9. The sum of these multiples is 23.\n",
    "\n",
    "Finish the solution so that it returns the sum of all the multiples of 3 or 5 below the number passed in.\n",
    "\n",
    "Note: If the number is a multiple of both 3 and 5, only count it once.\n"
   ]
  },
  {
   "cell_type": "code",
   "execution_count": 5,
   "metadata": {},
   "outputs": [
    {
     "data": {
      "text/plain": [
       "23"
      ]
     },
     "execution_count": 5,
     "metadata": {},
     "output_type": "execute_result"
    }
   ],
   "source": [
    "def solution(num):\n",
    "    sum  = 0\n",
    "    for i in range(2, num):      \n",
    "        if i%3 == 0 and not i%5 == 0:\n",
    "            sum += i\n",
    "        elif i % 5 == 0 and not i%3 == 0:\n",
    "            sum += i\n",
    "        elif i%3 == 0 and i%5 == 0:\n",
    "            sum += i        \n",
    "    return(sum)\n",
    "\n",
    "solution(10)"
   ]
  },
  {
   "cell_type": "markdown",
   "metadata": {},
   "source": [
    "### Challenge 7\n",
    "#### Array.diff\n",
    "---\n",
    "\n",
    "Your goal in this kata is to implement a difference function, which subtracts one list from another and returns the result.\n",
    "\n",
    "It should remove all values from list a, which are present in list b.\n",
    "\n",
    "array_diff([1,2],[1]) == [2]\n",
    "\n",
    "If a value is present in b, all of its occurrences must be removed from the other:"
   ]
  },
  {
   "cell_type": "code",
   "execution_count": 102,
   "metadata": {},
   "outputs": [
    {
     "data": {
      "text/plain": [
       "[6, 6, 15, 14, 1, -12, 18, 18, -14, 10, -7, 16, 0, 1, -20]"
      ]
     },
     "execution_count": 102,
     "metadata": {},
     "output_type": "execute_result"
    }
   ],
   "source": [
    "# I used numpy because the challenges name is array, yet they really wanted lists instead.\n",
    "# so my solution was overdone\n",
    "import numpy as np\n",
    "\n",
    "a = np.array([6, 6, 15, 14, 1, -12, -3, 18, 18, -14, -9, 10, -7, 8, 16, 0, 1, -20])\n",
    "b = np.array([-3, -15, 7, 11, -5, -11, 7, -18, -17, -9, -8, 9, 13, -9, -13, 8, 19])\n",
    "\n",
    "def array_diff(a, b):\n",
    "    if len(a) == 0 :\n",
    "        return([])\n",
    "    elif len(b) == 0:\n",
    "        return(list(a))\n",
    "    else:\n",
    "        for i in range(len(b)):\n",
    "            if b[i] in a:\n",
    "                a = a[a != b[i]]\n",
    "        return(list(a))\n",
    "        \n",
    "array_diff(a,b)"
   ]
  },
  {
   "cell_type": "code",
   "execution_count": 104,
   "metadata": {},
   "outputs": [
    {
     "data": {
      "text/plain": [
       "[6, 6, 15, 14, 1, -12, 18, 18, -14, 10, -7, 16, 0, 1, -20]"
      ]
     },
     "execution_count": 104,
     "metadata": {},
     "output_type": "execute_result"
    }
   ],
   "source": [
    "# Simple solution using lists\n",
    "a = [6, 6, 15, 14, 1, -12, -3, 18, 18, -14, -9, 10, -7, 8, 16, 0, 1, -20]\n",
    "b = [-3, -15, 7, 11, -5, -11, 7, -18, -17, -9, -8, 9, 13, -9, -13, 8, 19]\n",
    "\n",
    "def array_diff2(a,b):\n",
    "    return [x for x in a if x not in b]\n",
    "\n",
    "array_diff2(a,b)"
   ]
  },
  {
   "cell_type": "markdown",
   "metadata": {},
   "source": [
    "### Challenge 8\n",
    "#### ROT13\n",
    "---\n",
    "\n",
    "ROT13 is a simple letter substitution cipher that replaces a letter with the letter 13 letters after it in the alphabet. ROT13 is an example of the Caesar cipher.\n",
    "\n",
    "Create a function that takes a string and returns the string ciphered with Rot13. If there are numbers or special characters included in the string, they should be returned as they are. Only letters from the latin/english alphabet should be shifted, like in the original Rot13 \"implementation\".\n",
    "\n",
    "Please note that using encode is considered cheating.\n"
   ]
  },
  {
   "cell_type": "code",
   "execution_count": 164,
   "metadata": {},
   "outputs": [
    {
     "name": "stdout",
     "output_type": "stream",
     "text": [
      "no way Jose!$\n",
      "ab jnl Wbfr!$\n"
     ]
    }
   ],
   "source": [
    "# My solution not using encode\n",
    "\n",
    "import string\n",
    "\n",
    "def rot13(test_string): \n",
    "    lwr_alpha = string.ascii_lowercase * 2\n",
    "    upr_alpha = string.ascii_uppercase * 2\n",
    "    cipher = ''\n",
    "    \n",
    "    for letter in test_string:\n",
    "        if letter in lwr_alpha:\n",
    "            cipher += lwr_alpha[lwr_alpha.find(letter)+13]\n",
    "            #print(f'{letter} is in lowercase alphabet, index loc: {cipher}')   \n",
    "        elif letter in upr_alpha:\n",
    "            cipher += upr_alpha[upr_alpha.find(letter)+13]\n",
    "            #print(f'{letter} is in uppercase alphabet, index loc: {cipher}')\n",
    "        else:\n",
    "            cipher += letter\n",
    "            #print(f'{letter} not in ANY alphabet')\n",
    "    print(f'{test_string}')\n",
    "    print(f'{cipher}')\n",
    "  \n",
    "rot13('no way Jose!$')"
   ]
  },
  {
   "cell_type": "code",
   "execution_count": 165,
   "metadata": {},
   "outputs": [
    {
     "data": {
      "text/plain": [
       "'ab jnl Wbfr!$'"
      ]
     },
     "execution_count": 165,
     "metadata": {},
     "output_type": "execute_result"
    }
   ],
   "source": [
    "# Simple solution using encode\n",
    "import codecs\n",
    "codecs.encode('no way Jose!$', 'rot_13')"
   ]
  },
  {
   "cell_type": "markdown",
   "metadata": {},
   "source": [
    "### Challenge 9\n",
    "#### Find The Parity Outlier\n",
    "---\n",
    "\n",
    "You are given an array (which will have a length of at least 3, but could be very large) containing integers. The array is either entirely comprised of odd integers or entirely comprised of even integers except for a single integer N. Write a method that takes the array as an argument and returns this \"outlier\" N."
   ]
  },
  {
   "cell_type": "code",
   "execution_count": 205,
   "metadata": {},
   "outputs": [
    {
     "data": {
      "text/plain": [
       "160"
      ]
     },
     "execution_count": 205,
     "metadata": {},
     "output_type": "execute_result"
    }
   ],
   "source": [
    "a1 = [2, 4, 6, 100, 4, 11, 2602, 36]  # 11 is outlier\n",
    "a2 = [160, 3, 1719, 19, 11, 13, -21]  # 160 is outlier\n",
    "\n",
    "def find_outlier(nums):\n",
    "    # check type of outlier searching for\n",
    "    if ((nums[0]%2==0 and nums[1]%2==0) or\n",
    "        (nums[0]%2==0 and nums[2]%2==0) or\n",
    "        (nums[1]%2==0 and nums[2]%2==0)):\n",
    "        outlier = [x for x in nums if x%2 != 0]\n",
    "        return outlier[0]\n",
    "    else:\n",
    "        outlier = [x for x in nums if x%2 == 0]\n",
    "        return outlier[0]\n",
    "\n",
    "find_outlier(a2)"
   ]
  },
  {
   "cell_type": "code",
   "execution_count": 207,
   "metadata": {},
   "outputs": [
    {
     "data": {
      "text/plain": [
       "11"
      ]
     },
     "execution_count": 207,
     "metadata": {},
     "output_type": "execute_result"
    }
   ],
   "source": [
    "# Really good solution\n",
    "def find_outlier2(int):\n",
    "    odds = [x for x in int if x%2!=0]\n",
    "    evens= [x for x in int if x%2==0]\n",
    "    return odds[0] if len(odds)<len(evens) else evens[0]\n",
    "\n",
    "find_outlier2(a1)"
   ]
  },
  {
   "cell_type": "code",
   "execution_count": null,
   "metadata": {},
   "outputs": [],
   "source": []
  }
 ],
 "metadata": {
  "kernelspec": {
   "display_name": "Python 3",
   "language": "python",
   "name": "python3"
  },
  "language_info": {
   "codemirror_mode": {
    "name": "ipython",
    "version": 3
   },
   "file_extension": ".py",
   "mimetype": "text/x-python",
   "name": "python",
   "nbconvert_exporter": "python",
   "pygments_lexer": "ipython3",
   "version": "3.7.7"
  }
 },
 "nbformat": 4,
 "nbformat_minor": 4
}
