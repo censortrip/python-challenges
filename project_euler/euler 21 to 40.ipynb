{
 "cells": [
  {
   "cell_type": "markdown",
   "metadata": {},
   "source": [
    "# Project Euler Challenges 21 - 40\n",
    "---\n",
    "All of these challenges come from the Project Euler website at:\n",
    "\n",
    "[Project Euler Link](https://projecteuler.net/)"
   ]
  },
  {
   "cell_type": "code",
   "execution_count": 2,
   "metadata": {},
   "outputs": [],
   "source": [
    "# Imports\n",
    "import string\n",
    "import math\n",
    "import time\n",
    "import numpy as np\n",
    "import pandas as pd"
   ]
  },
  {
   "cell_type": "markdown",
   "metadata": {},
   "source": [
    "---\n",
    "## Problem 21: Amicable numbers\n",
    "\n",
    "\n",
    "Let d(n) be defined as the sum of proper divisors of n (numbers less than n which divide evenly into n).\n",
    "If d(a) = b and d(b) = a, where a ≠ b, then a and b are an amicable pair and each of a and b are called amicable numbers.\n",
    "\n",
    "For example, the proper divisors of 220 are 1, 2, 4, 5, 10, 11, 20, 22, 44, 55 and 110; therefore d(220) = 284. The proper divisors of 284 are 1, 2, 4, 71 and 142; so d(284) = 220.\n",
    "\n",
    "Evaluate the sum of all the amicable numbers under 10000.\n"
   ]
  },
  {
   "cell_type": "code",
   "execution_count": 5,
   "metadata": {},
   "outputs": [
    {
     "name": "stdout",
     "output_type": "stream",
     "text": [
      "Solution: 31626\n",
      "Program Complete In: 3.0155727863311768 Seconds\n"
     ]
    }
   ],
   "source": [
    "# My original less efficient solution\n",
    "\n",
    "def sum_divisors(num):\n",
    "    s = 0\n",
    "    for i in range(1, math.ceil(num/2)+1):\n",
    "        if num % i == 0:\n",
    "            s+= i\n",
    "    return s\n",
    "\n",
    "def get_amicable_numbers(num):   \n",
    "    n1 = sum_divisors(num) \n",
    "    \n",
    "    if n1 != num:\n",
    "        n2 = sum_divisors(n1)  \n",
    "        \n",
    "        if n2 == num:\n",
    "            anums.add(n1)\n",
    "            anums.add(n2)\n",
    "            \n",
    "t1 = time.time()\n",
    "\n",
    "anums = set()\n",
    "for i in range(2, 10_001):\n",
    "    get_amicable_numbers(i)\n",
    "    \n",
    "print(f'Solution: {sum(anums)}')\n",
    "print(f'Program Complete In: {time.time() - t1} Seconds')"
   ]
  },
  {
   "cell_type": "code",
   "execution_count": 6,
   "metadata": {},
   "outputs": [
    {
     "name": "stdout",
     "output_type": "stream",
     "text": [
      "Solution: 31626\n",
      "Program Complete In: 0.09399247169494629 Seconds\n"
     ]
    }
   ],
   "source": [
    "# My optimized efficient solution\n",
    "\n",
    "# sum_divisors() Note 1: \n",
    "# 2 different calculations are being performed to get all the divisors:\n",
    "# s += x  <---adds the square root divisors to the total\n",
    "# s += num//x   <---adds the higher values divided by square root divisors\n",
    "\n",
    "# sum_divisors() Note 2: \n",
    "# 1 is added to the total at the end because the loop starts at 2\n",
    "# if loops started at 1, the original number would have been summed as well\n",
    "# which is not desirable as it would have to then be subtracted out again \n",
    "def sum_divisors(num):\n",
    "    s = 0\n",
    "    for x in range(2,int(num**0.5) + 1):\n",
    "        if num % x == 0:\n",
    "            s += x\n",
    "            s += num // x\n",
    "    return s + 1\n",
    "\n",
    "t1 = time.time()\n",
    "\n",
    "anums = set()\n",
    "for i in range(2, 10_001):\n",
    "    n1 = sum_divisors(i)\n",
    "    if sum_divisors(n1) == i and n1 != i:\n",
    "        anums.add(n1)\n",
    "        \n",
    "print(f'Solution: {sum(anums)}')\n",
    "print(f'Program Complete In: {time.time() - t1} Seconds')"
   ]
  },
  {
   "cell_type": "markdown",
   "metadata": {},
   "source": [
    "---\n",
    "## Problem 22: Names scores\n",
    "\n",
    "Using names.txt (a 46K text file containing over five-thousand first names) begin by sorting it into alphabetical order. Then working out the alphabetical value for each name, multiply this value by its alphabetical position in the list to obtain a name score.\n",
    "\n",
    "For example, when the list is sorted into alphabetical order, COLIN, which is worth 3 + 15 + 12 + 9 + 14 = 53, is the 938th name in the list. So, COLIN would obtain a score of 938 × 53 = 49714.\n",
    "\n",
    "What is the total of all the name scores in the file?\n"
   ]
  },
  {
   "cell_type": "code",
   "execution_count": 332,
   "metadata": {},
   "outputs": [
    {
     "name": "stdout",
     "output_type": "stream",
     "text": [
      "Solution: 871198282\n",
      "Program Complete In: 0.008616924285888672 Seconds\n"
     ]
    }
   ],
   "source": [
    "def get_names(file):\n",
    "    n_list = []\n",
    "    with open(file, \"r\") as fs:\n",
    "        for line in fs:\n",
    "             n_list = line.split(',')\n",
    "                \n",
    "    names = [name.strip('\"\"') for name in n_list]\n",
    "    names = [name.lower() for name in n]\n",
    "    names.sort()\n",
    "    return names\n",
    "\n",
    "\n",
    "def alphabet_key():\n",
    "    alph = [l for l in string.ascii_lowercase]\n",
    "    let_val = [i for i in range(1,len(alph)+1)]\n",
    "    return dict(zip(alph, let_val))   \n",
    "\n",
    "\n",
    "def letters_sum(name, alpha):\n",
    "    s = 0\n",
    "    for letter in name:\n",
    "        s += alpha[letter]\n",
    "    return s\n",
    "\n",
    "\n",
    "def prob22(file):\n",
    "    names = get_names(file)\n",
    "    alpha = alphabet_key()\n",
    "    \n",
    "    solution = 0\n",
    "    for i, name in enumerate(names):\n",
    "        index_val = i+1\n",
    "        letter_val = letters_sum(name, alpha)\n",
    "        solution += index_val * letter_val\n",
    "    print(f'Solution: {solution}')\n",
    "\n",
    "      \n",
    "t1 = time.time()\n",
    "prob22('data/names.txt')\n",
    "print(f'Program Complete In: {time.time() - t1} Seconds')"
   ]
  },
  {
   "cell_type": "markdown",
   "metadata": {},
   "source": [
    "---\n",
    "## Problem 23: Non-abundant sums\n",
    "\n",
    "A perfect number is a number for which the sum of its proper divisors is exactly equal to the number. For example, the sum of the proper divisors of 28 would be 1 + 2 + 4 + 7 + 14 = 28, which means that 28 is a perfect number.\n",
    "\n",
    "A number n is called deficient if the sum of its proper divisors is less than n and it is called abundant if this sum exceeds n.\n",
    "\n",
    "As 12 is the smallest abundant number, 1 + 2 + 3 + 4 + 6 = 16, the smallest number that can be written as the sum of two abundant numbers is 24. By mathematical analysis, it can be shown that all integers greater than 28123 can be written as the sum of two abundant numbers. However, this upper limit cannot be reduced any further by analysis even though it is known that the greatest number that cannot be expressed as the sum of two abundant numbers is less than this limit.\n",
    "\n",
    "Find the sum of all the positive integers which cannot be written as the sum of two abundant numbers.\n"
   ]
  },
  {
   "cell_type": "code",
   "execution_count": null,
   "metadata": {},
   "outputs": [],
   "source": []
  }
 ],
 "metadata": {
  "kernelspec": {
   "display_name": "Python 3",
   "language": "python",
   "name": "python3"
  },
  "language_info": {
   "codemirror_mode": {
    "name": "ipython",
    "version": 3
   },
   "file_extension": ".py",
   "mimetype": "text/x-python",
   "name": "python",
   "nbconvert_exporter": "python",
   "pygments_lexer": "ipython3",
   "version": "3.7.7"
  }
 },
 "nbformat": 4,
 "nbformat_minor": 4
}
